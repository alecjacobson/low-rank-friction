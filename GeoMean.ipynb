{
 "cells": [
  {
   "cell_type": "code",
   "execution_count": 23,
   "id": "d011a85f",
   "metadata": {},
   "outputs": [
    {
     "data": {
      "text/plain": [
       "<matplotlib.pyplot._IonContext at 0x16ac1ae20>"
      ]
     },
     "execution_count": 23,
     "metadata": {},
     "output_type": "execute_result"
    }
   ],
   "source": [
    "import torch\n",
    "import csv\n",
    "import numpy as np\n",
    "#%matplotlib ipympl\n",
    "import matplotlib.pyplot as plt\n",
    "from scipy.sparse import coo_matrix\n",
    "import torch\n",
    "from torch.optim import Adam\n",
    "from torch.optim import SGD\n",
    "import torch.nn as nn\n",
    "from scipy import io\n",
    "\n",
    "plt.ion()"
   ]
  },
  {
   "cell_type": "code",
   "execution_count": 24,
   "id": "a82a94d1",
   "metadata": {},
   "outputs": [],
   "source": [
    "filename = \"simple-data.txt\" # replace with your file name\n",
    "\n",
    "material_names_to_ids = {}\n",
    "coefficient_data = []\n",
    "\n",
    "num_materials = 0\n",
    "with open(filename, 'r') as file:\n",
    "    reader = csv.reader(file, delimiter='\\t')\n",
    "    for row in reader:\n",
    "        def get_id(name):\n",
    "            global num_materials\n",
    "            if name not in material_names_to_ids:\n",
    "                material_names_to_ids[name] = num_materials\n",
    "                num_materials = num_materials+1\n",
    "            return material_names_to_ids[name]\n",
    "        coefficient_data.append((get_id(row[0]),get_id(row[1]),float(row[2])))"
   ]
  },
  {
   "cell_type": "code",
   "execution_count": 25,
   "id": "ea4b7ee5",
   "metadata": {},
   "outputs": [],
   "source": [
    "# extract the row indices, column indices, and values from the triplets\n",
    "rows = [t[0] for t in coefficient_data]\n",
    "cols = [t[1] for t in coefficient_data]\n",
    "vals = [t[2] for t in coefficient_data]\n",
    "# create a sparse matrix in COO format\n",
    "coefficient_matrix = coo_matrix((vals, (rows, cols)),shape=(num_materials,num_materials))"
   ]
  },
  {
   "cell_type": "code",
   "execution_count": 26,
   "id": "a65e45b6",
   "metadata": {},
   "outputs": [
    {
     "data": {
      "image/png": "[encoded data removed]",
      "text/plain": [
       "<Figure size 432x288 with 1 Axes>"
      ]
     },
     "metadata": {
      "needs_background": "light"
     },
     "output_type": "display_data"
    }
   ],
   "source": [
    "# plot the sparsity pattern\n",
    "plt.imshow((coefficient_matrix+coefficient_matrix.T).todense(), cmap='binary', interpolation='nearest')\n",
    "plt.show()"
   ]
  },
  {
   "cell_type": "code",
   "execution_count": 238,
   "id": "24f84b49",
   "metadata": {},
   "outputs": [],
   "source": [
    "# define the initial values of z[i] and z[j]\n",
    "log_z = torch.randn(num_materials, 1, requires_grad=True)"
   ]
  },
  {
   "cell_type": "code",
   "execution_count": 239,
   "id": "bbdddee2",
   "metadata": {},
   "outputs": [],
   "source": [
    "# define the optimizer\n",
    "optimizer = Adam([log_z], lr=0.1)# define the loss function\n",
    "#optimizer = SGD([log_z], lr=0.01, momentum=0.9)"
   ]
  },
  {
   "cell_type": "code",
   "execution_count": 240,
   "id": "1cf06bbe",
   "metadata": {},
   "outputs": [],
   "source": [
    "class SimpleNet(nn.Module):\n",
    "    def __init__(self):\n",
    "        super(SimpleNet, self).__init__()\n",
    "        w = 20\n",
    "        self.layer1 = nn.Linear(2, w)\n",
    "        self.layer2 = nn.Linear(w, w)\n",
    "        self.layer3 = nn.Linear(w, w)\n",
    "        self.layer4 = nn.Linear(w, w)\n",
    "        self.layer5 = nn.Linear(w, w)\n",
    "        self.layer6 = nn.Linear(w, w)\n",
    "        #self.layer4 = nn.Linear(20, 20)\n",
    "        self.last_layer = nn.Linear(w, 1)\n",
    "        self.relu = nn.ReLU() # ReLU activation function\n",
    "\n",
    "    def forward(self, zi, zj):\n",
    "        # THIS DOES NOT WORK\n",
    "        #x = torch.tensor([zi,zj],requires_grad=True)\n",
    "        # YOU HAVE TO DO THIS?! DUH!\n",
    "        x = torch.stack([zi, zj]).T\n",
    "        x = self.relu(self.layer1(x))\n",
    "        x = self.relu(self.layer2(x))\n",
    "        x = self.relu(self.layer3(x))\n",
    "        #x = self.relu(self.layer4(x))\n",
    "        #x = self.relu(self.layer5(x))\n",
    "        #x = self.relu(self.layer6(x))\n",
    "        x = self.last_layer(x)\n",
    "        return x\n",
    "        #return torch.sqrt(x[0]*x[1])"
   ]
  },
  {
   "cell_type": "code",
   "execution_count": 241,
   "id": "d9a4743d",
   "metadata": {},
   "outputs": [],
   "source": [
    "def geomean(zi,zj):\n",
    "    return torch.sqrt(zi * zj)\n",
    "\n",
    "model = SimpleNet()\n",
    "\n",
    "def f(zi,zj):\n",
    "    return model.forward(zi,zj)\n",
    "    #return geomean(zi,zj)\n",
    "\n",
    "def loss_function(triplets, log_z):\n",
    "    loss = 0\n",
    "    z = torch.exp(log_z)\n",
    "    for i, j, v in triplets:\n",
    "        loss += ( f(z[i],z[j]) - v)**2\n",
    "    return loss"
   ]
  },
  {
   "cell_type": "code",
   "execution_count": null,
   "id": "59b46461",
   "metadata": {},
   "outputs": [
    {
     "name": "stdout",
     "output_type": "stream",
     "text": [
      "0: 0.248747 (-2.86979,2.58092)\n",
      "100: 0.0121741 (-7.38425,4.36309)\n",
      "200: 0.0121876 (-8.50412,4.3091)\n",
      "300: 0.0119968 (-9.20793,4.47573)\n",
      "400: 0.0119664 (-9.75196,4.47574)\n",
      "500: 0.0120298 (-10.2084,4.46641)\n",
      "600: 0.0121096 (-10.6181,4.38121)\n",
      "700: 0.0120882 (-10.997,4.73623)\n",
      "800: 0.0121226 (-11.3551,4.73549)\n",
      "900: 0.012041 (-11.6975,4.73549)\n",
      "1000: 0.0122418 (-12.0218,4.73549)\n",
      "1100: 0.0121689 (-12.3404,4.73549)\n",
      "1200: 0.0140515 (-12.6507,4.73549)\n",
      "1300: 0.0125956 (-12.9641,4.73549)\n",
      "1400: 0.0125566 (-13.269,4.73549)\n",
      "1500: 0.0127358 (-13.5763,4.73549)\n",
      "1600: 0.0126163 (-13.8745,4.73549)\n",
      "1700: 0.0129758 (-14.1755,4.73549)\n",
      "1800: 0.0124426 (-14.4743,4.73549)\n",
      "1900: 0.0124315 (-14.7709,4.73549)\n",
      "2000: 0.0128386 (-15.0645,4.73549)\n",
      "2100: 0.0125249 (-15.3567,4.73549)\n",
      "2200: 0.0125714 (-15.6487,4.73549)\n",
      "2300: 0.0125903 (-15.9346,4.73549)\n",
      "2400: 0.0124712 (-16.2107,4.73549)\n",
      "2500: 0.0126168 (-16.4867,4.73549)\n",
      "2600: 0.0125649 (-16.7545,4.73549)\n",
      "2700: 0.0126164 (-17.013,4.73549)\n",
      "2800: 0.0124125 (-17.258,4.73549)\n",
      "2900: 0.0126061 (-17.4952,4.73549)\n",
      "3000: 0.0126595 (-17.7167,4.73549)\n"
     ]
    }
   ],
   "source": [
    "# perform the optimization\n",
    "num_epochs = 200000\n",
    "batch_size = 16\n",
    "#batch_size = len(coefficient_data)\n",
    "for epoch in range(num_epochs):\n",
    "    if epoch % 100 == 0:\n",
    "        print(f\"%d: %g (%g,%g)\" % (epoch,loss_function(coefficient_data,log_z)/len(coefficient_data),torch.min(log_z),torch.max(log_z)))\n",
    "    # shuffle the triplets for each epoch\n",
    "    np.random.shuffle(coefficient_data)\n",
    "    # iterate over mini-batches\n",
    "    #for i in [1]:\n",
    "    for i in range(0, len(coefficient_data), batch_size):\n",
    "        batch_triplets = coefficient_data[i:i+batch_size]\n",
    "        optimizer.zero_grad()\n",
    "        loss = loss_function(batch_triplets, log_z)\n",
    "        loss.backward()\n",
    "        optimizer.step()    \n",
    "    \n",
    "# print the final values of z\n",
    "#print(torch.exp(log_z).detach().numpy())"
   ]
  },
  {
   "cell_type": "code",
   "execution_count": null,
   "id": "6114b441",
   "metadata": {},
   "outputs": [],
   "source": []
  },
  {
   "cell_type": "code",
   "execution_count": null,
   "id": "6be3f7e5",
   "metadata": {},
   "outputs": [],
   "source": [
    "def write_to_data_mat(log_z):\n",
    "    global coefficient_data\n",
    "    indices = np.array([(i, j) for (i, j, v) in coefficient_data])\n",
    "    values = np.array([v for (i, j, v) in coefficient_data])\n",
    "    # extract the coordinates from z using the indices\n",
    "    io.savemat('data.mat', {'z': torch.exp(log_z).detach().numpy(),'indices': indices, 'values': values})"
   ]
  },
  {
   "cell_type": "code",
   "execution_count": 104,
   "id": "ce2f6d85",
   "metadata": {},
   "outputs": [],
   "source": [
    "write_to_data_mat(log_z)"
   ]
  },
  {
   "cell_type": "code",
   "execution_count": 10,
   "id": "829d50d9",
   "metadata": {},
   "outputs": [
    {
     "name": "stdout",
     "output_type": "stream",
     "text": [
      "/Users/alecjacobson/miniconda3/bin/python\n"
     ]
    }
   ],
   "source": [
    "import sys\n",
    "\n",
    "print(sys.executable)"
   ]
  },
  {
   "cell_type": "code",
   "execution_count": 12,
   "id": "baaf2391",
   "metadata": {},
   "outputs": [
    {
     "name": "stdout",
     "output_type": "stream",
     "text": [
      "3.9.15 | packaged by conda-forge | (main, Nov 22 2022, 08:48:25) \n",
      "[Clang 14.0.6 ]\n"
     ]
    }
   ],
   "source": [
    "print(sys.version)"
   ]
  },
  {
   "cell_type": "code",
   "execution_count": null,
   "id": "2ab49eec",
   "metadata": {},
   "outputs": [],
   "source": []
  },
  {
   "cell_type": "code",
   "execution_count": null,
   "id": "a9f53f02",
   "metadata": {},
   "outputs": [],
   "source": []
  }
 ],
 "metadata": {
  "kernelspec": {
   "display_name": "Python 3",
   "language": "python",
   "name": "python3"
  },
  "language_info": {
   "codemirror_mode": {
    "name": "ipython",
    "version": 3
   },
   "file_extension": ".py",
   "mimetype": "text/x-python",
   "name": "python",
   "nbconvert_exporter": "python",
   "pygments_lexer": "ipython3",
   "version": "3.9.15"
  }
 },
 "nbformat": 4,
 "nbformat_minor": 5
}
