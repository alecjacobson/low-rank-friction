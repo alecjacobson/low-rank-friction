{
 "cells": [
  {
   "cell_type": "code",
   "execution_count": 2,
   "id": "d011a85f",
   "metadata": {},
   "outputs": [
    {
     "data": {
      "text/plain": [
       "<contextlib.ExitStack at 0x7f995270e070>"
      ]
     },
     "execution_count": 2,
     "metadata": {},
     "output_type": "execute_result"
    }
   ],
   "source": [
    "import torch\n",
    "import csv\n",
    "import numpy as np\n",
    "%matplotlib ipympl\n",
    "import matplotlib.pyplot as plt\n",
    "from scipy.sparse import coo_matrix\n",
    "import torch\n",
    "from torch.optim import Adam\n",
    "from torch.optim import SGD\n",
    "import torch.nn as nn\n",
    "plt.ion()"
   ]
  },
  {
   "cell_type": "code",
   "execution_count": 3,
   "id": "a82a94d1",
   "metadata": {},
   "outputs": [],
   "source": [
    "filename = \"simple-data.txt\" # replace with your file name\n",
    "\n",
    "material_names_to_ids = {}\n",
    "coefficient_data = []\n",
    "\n",
    "num_materials = 0\n",
    "with open(filename, 'r') as file:\n",
    "    reader = csv.reader(file, delimiter='\\t')\n",
    "    for row in reader:\n",
    "        def get_id(name):\n",
    "            global num_materials\n",
    "            if name not in material_names_to_ids:\n",
    "                material_names_to_ids[name] = num_materials\n",
    "                num_materials = num_materials+1\n",
    "            return material_names_to_ids[name]\n",
    "        coefficient_data.append((get_id(row[0]),get_id(row[1]),float(row[2])))"
   ]
  },
  {
   "cell_type": "code",
   "execution_count": 4,
   "id": "ea4b7ee5",
   "metadata": {},
   "outputs": [],
   "source": [
    "# extract the row indices, column indices, and values from the triplets\n",
    "rows = [t[0] for t in coefficient_data]\n",
    "cols = [t[1] for t in coefficient_data]\n",
    "vals = [t[2] for t in coefficient_data]\n",
    "# create a sparse matrix in COO format\n",
    "coefficient_matrix = coo_matrix((vals, (rows, cols)),shape=(num_materials,num_materials))"
   ]
  },
  {
   "cell_type": "code",
   "execution_count": 5,
   "id": "a65e45b6",
   "metadata": {},
   "outputs": [
    {
     "data": {
      "application/vnd.jupyter.widget-view+json": {
       "model_id": "079d4e5b1aa14c54978b0d6f1bbdaf94",
       "version_major": 2,
       "version_minor": 0
      },
      "image/png": "[encoded data removed]",
      "text/html": [
       "\n",
       "            <div style=\"display: inline-block;\">\n",
       "                <div class=\"jupyter-widgets widget-label\" style=\"text-align: center;\">\n",
       "                    Figure\n",
       "                </div>\n",
       "                <img src='data:image/png;base64,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' width=640.0/>\n",
       "            </div>\n",
       "        "
      ],
      "text/plain": [
       "Canvas(toolbar=Toolbar(toolitems=[('Home', 'Reset original view', 'home', 'home'), ('Back', 'Back to previous …"
      ]
     },
     "metadata": {},
     "output_type": "display_data"
    }
   ],
   "source": [
    "# plot the sparsity pattern\n",
    "plt.imshow((coefficient_matrix+coefficient_matrix.T).todense(), cmap='binary', interpolation='nearest')\n",
    "plt.show()"
   ]
  },
  {
   "cell_type": "code",
   "execution_count": 6,
   "id": "24f84b49",
   "metadata": {},
   "outputs": [],
   "source": [
    "# define the initial values of z[i] and z[j]\n",
    "log_z = torch.rand(num_materials, 1, requires_grad=True)"
   ]
  },
  {
   "cell_type": "code",
   "execution_count": 7,
   "id": "bbdddee2",
   "metadata": {},
   "outputs": [],
   "source": [
    "# define the optimizer\n",
    "#optimizer = Adam([log_z], lr=0)# define the loss function\n",
    "optimizer = SGD([log_z], lr=0.01, momentum=0.9)"
   ]
  },
  {
   "cell_type": "code",
   "execution_count": 8,
   "id": "1cf06bbe",
   "metadata": {},
   "outputs": [],
   "source": [
    "class SimpleNet(nn.Module):\n",
    "    def __init__(self):\n",
    "        super(SimpleNet, self).__init__()\n",
    "        self.layer1 = nn.Linear(3, 8) # input layer -> hidden layer 1\n",
    "        #self.layer2 = nn.Linear(20, 20) # hidden layer 1 -> hidden layer 2\n",
    "        #self.layer3 = nn.Linear(20, 20) # hidden layer 2 -> hidden layer 3\n",
    "        self.layer4 = nn.Linear(8, 1) # hidden layer 3 -> output layer\n",
    "        self.relu = nn.ReLU() # ReLU activation function\n",
    "\n",
    "    def forward(self, x):\n",
    "        x = self.relu(self.layer1(x))\n",
    "        #x = self.relu(self.layer2(x))\n",
    "        #x = self.relu(self.layer3(x))\n",
    "        x = self.layer4(x)\n",
    "        return x"
   ]
  },
  {
   "cell_type": "code",
   "execution_count": 9,
   "id": "d9a4743d",
   "metadata": {},
   "outputs": [],
   "source": [
    "def geomean(zi,zj):\n",
    "    return torch.sqrt(zi * zj)\n",
    "\n",
    "\n",
    "def f(zi,zj):\n",
    "    #model = SimpleNet()\n",
    "    #return model.forward(torch.tensor([zi, zj, geomean(zi,zj)], requires_grad=True))\n",
    "    return geomean(zi,zj)\n",
    "\n",
    "def loss_function(triplets, log_z):\n",
    "    loss = 0\n",
    "    z = torch.exp(log_z)\n",
    "    for i, j, v in triplets:\n",
    "        loss += ( f(z[i],z[j]) - v)**2\n",
    "    return loss"
   ]
  },
  {
   "cell_type": "code",
   "execution_count": 10,
   "id": "59b46461",
   "metadata": {},
   "outputs": [
    {
     "name": "stdout",
     "output_type": "stream",
     "text": [
      "0: 2.04912 (0.00271517,0.983518)\n",
      "100: 0.0449645 (-7.73555,0.463768)\n",
      "200: 0.0306586 (-7.10115,0.55348)\n",
      "300: 0.0234487 (-6.14643,0.614886)\n",
      "400: 0.0186865 (-4.4113,0.715614)\n",
      "500: 0.0102092 (-3.45555,0.955858)\n",
      "600: 0.0082369 (-3.5252,0.732926)\n",
      "700: 0.00699021 (-3.57362,0.761996)\n",
      "800: 0.00640383 (-3.60854,0.787816)\n",
      "900: 0.00612161 (-3.63432,0.811558)\n",
      "1000: 0.00598059 (-3.65236,0.832937)\n",
      "1100: 0.00587729 (-3.6666,0.853641)\n",
      "1200: 0.00581831 (-3.67712,0.873157)\n",
      "1300: 0.00577623 (-3.73703,0.891774)\n",
      "1400: 0.00574748 (-3.83909,0.909371)\n",
      "1500: 0.00572649 (-3.93024,0.926759)\n",
      "1600: 0.00571198 (-4.01158,0.94344)\n",
      "1700: 0.00569021 (-4.08622,0.959627)\n",
      "1800: 0.00567703 (-4.15449,0.975472)\n"
     ]
    },
    {
     "ename": "KeyboardInterrupt",
     "evalue": "",
     "output_type": "error",
     "traceback": [
      "\u001b[0;31m---------------------------------------------------------------------------\u001b[0m",
      "\u001b[0;31mKeyboardInterrupt\u001b[0m                         Traceback (most recent call last)",
      "Cell \u001b[0;32mIn[10], line 16\u001b[0m\n\u001b[1;32m     14\u001b[0m         optimizer\u001b[38;5;241m.\u001b[39mzero_grad()\n\u001b[1;32m     15\u001b[0m         loss \u001b[38;5;241m=\u001b[39m loss_function(batch_triplets, log_z)\n\u001b[0;32m---> 16\u001b[0m         \u001b[43mloss\u001b[49m\u001b[38;5;241;43m.\u001b[39;49m\u001b[43mbackward\u001b[49m\u001b[43m(\u001b[49m\u001b[43m)\u001b[49m\n\u001b[1;32m     17\u001b[0m         optimizer\u001b[38;5;241m.\u001b[39mstep()    \n\u001b[1;32m     19\u001b[0m \u001b[38;5;66;03m# print the final values of z\u001b[39;00m\n\u001b[1;32m     20\u001b[0m \u001b[38;5;66;03m#print(torch.exp(log_z).detach().numpy())\u001b[39;00m\n",
      "File \u001b[0;32m/Library/Frameworks/Python.framework/Versions/3.8/lib/python3.8/site-packages/torch/_tensor.py:488\u001b[0m, in \u001b[0;36mTensor.backward\u001b[0;34m(self, gradient, retain_graph, create_graph, inputs)\u001b[0m\n\u001b[1;32m    478\u001b[0m \u001b[38;5;28;01mif\u001b[39;00m has_torch_function_unary(\u001b[38;5;28mself\u001b[39m):\n\u001b[1;32m    479\u001b[0m     \u001b[38;5;28;01mreturn\u001b[39;00m handle_torch_function(\n\u001b[1;32m    480\u001b[0m         Tensor\u001b[38;5;241m.\u001b[39mbackward,\n\u001b[1;32m    481\u001b[0m         (\u001b[38;5;28mself\u001b[39m,),\n\u001b[0;32m   (...)\u001b[0m\n\u001b[1;32m    486\u001b[0m         inputs\u001b[38;5;241m=\u001b[39minputs,\n\u001b[1;32m    487\u001b[0m     )\n\u001b[0;32m--> 488\u001b[0m \u001b[43mtorch\u001b[49m\u001b[38;5;241;43m.\u001b[39;49m\u001b[43mautograd\u001b[49m\u001b[38;5;241;43m.\u001b[39;49m\u001b[43mbackward\u001b[49m\u001b[43m(\u001b[49m\n\u001b[1;32m    489\u001b[0m \u001b[43m    \u001b[49m\u001b[38;5;28;43mself\u001b[39;49m\u001b[43m,\u001b[49m\u001b[43m \u001b[49m\u001b[43mgradient\u001b[49m\u001b[43m,\u001b[49m\u001b[43m \u001b[49m\u001b[43mretain_graph\u001b[49m\u001b[43m,\u001b[49m\u001b[43m \u001b[49m\u001b[43mcreate_graph\u001b[49m\u001b[43m,\u001b[49m\u001b[43m \u001b[49m\u001b[43minputs\u001b[49m\u001b[38;5;241;43m=\u001b[39;49m\u001b[43minputs\u001b[49m\n\u001b[1;32m    490\u001b[0m \u001b[43m\u001b[49m\u001b[43m)\u001b[49m\n",
      "File \u001b[0;32m/Library/Frameworks/Python.framework/Versions/3.8/lib/python3.8/site-packages/torch/autograd/__init__.py:197\u001b[0m, in \u001b[0;36mbackward\u001b[0;34m(tensors, grad_tensors, retain_graph, create_graph, grad_variables, inputs)\u001b[0m\n\u001b[1;32m    192\u001b[0m     retain_graph \u001b[38;5;241m=\u001b[39m create_graph\n\u001b[1;32m    194\u001b[0m \u001b[38;5;66;03m# The reason we repeat same the comment below is that\u001b[39;00m\n\u001b[1;32m    195\u001b[0m \u001b[38;5;66;03m# some Python versions print out the first line of a multi-line function\u001b[39;00m\n\u001b[1;32m    196\u001b[0m \u001b[38;5;66;03m# calls in the traceback and some print out the last line\u001b[39;00m\n\u001b[0;32m--> 197\u001b[0m \u001b[43mVariable\u001b[49m\u001b[38;5;241;43m.\u001b[39;49m\u001b[43m_execution_engine\u001b[49m\u001b[38;5;241;43m.\u001b[39;49m\u001b[43mrun_backward\u001b[49m\u001b[43m(\u001b[49m\u001b[43m  \u001b[49m\u001b[38;5;66;43;03m# Calls into the C++ engine to run the backward pass\u001b[39;49;00m\n\u001b[1;32m    198\u001b[0m \u001b[43m    \u001b[49m\u001b[43mtensors\u001b[49m\u001b[43m,\u001b[49m\u001b[43m \u001b[49m\u001b[43mgrad_tensors_\u001b[49m\u001b[43m,\u001b[49m\u001b[43m \u001b[49m\u001b[43mretain_graph\u001b[49m\u001b[43m,\u001b[49m\u001b[43m \u001b[49m\u001b[43mcreate_graph\u001b[49m\u001b[43m,\u001b[49m\u001b[43m \u001b[49m\u001b[43minputs\u001b[49m\u001b[43m,\u001b[49m\n\u001b[1;32m    199\u001b[0m \u001b[43m    \u001b[49m\u001b[43mallow_unreachable\u001b[49m\u001b[38;5;241;43m=\u001b[39;49m\u001b[38;5;28;43;01mTrue\u001b[39;49;00m\u001b[43m,\u001b[49m\u001b[43m \u001b[49m\u001b[43maccumulate_grad\u001b[49m\u001b[38;5;241;43m=\u001b[39;49m\u001b[38;5;28;43;01mTrue\u001b[39;49;00m\u001b[43m)\u001b[49m\n",
      "\u001b[0;31mKeyboardInterrupt\u001b[0m: "
     ]
    }
   ],
   "source": [
    "# perform the optimization\n",
    "num_epochs = 100000\n",
    "#batch_size = 1\n",
    "batch_size = len(coefficient_data)\n",
    "for epoch in range(num_epochs):\n",
    "    if epoch % 100 == 0:\n",
    "        print(f\"%d: %g (%g,%g)\" % (epoch,loss_function(coefficient_data,log_z)/len(coefficient_data),torch.min(log_z),torch.max(log_z)))\n",
    "    # shuffle the triplets for each epoch\n",
    "    np.random.shuffle(coefficient_data)\n",
    "    # iterate over mini-batches\n",
    "    #for i in range(0, len(coefficient_data), batch_size):\n",
    "    for i in [1]:\n",
    "        batch_triplets = coefficient_data[i:i+batch_size]\n",
    "        optimizer.zero_grad()\n",
    "        loss = loss_function(batch_triplets, log_z)\n",
    "        loss.backward()\n",
    "        optimizer.step()    \n",
    "    \n",
    "# print the final values of z\n",
    "#print(torch.exp(log_z).detach().numpy())"
   ]
  },
  {
   "cell_type": "code",
   "execution_count": 17,
   "id": "6114b441",
   "metadata": {},
   "outputs": [],
   "source": [
    "def plot(f,z):\n",
    "    global coefficient_data\n",
    "    x = np.linspace(0,np.max(z),20)\n",
    "    y = np.linspace(0,np.max(z),20)\n",
    "    X, Y = np.meshgrid(x, y)\n",
    "    Z = np.zeros(X.shape)\n",
    "    for i in range(X.shape[0]):\n",
    "        for j in range(X.shape[0]):\n",
    "            Z[i,j] = f(torch.tensor(X[i,j]),torch.tensor(Y[i,j]))\n",
    "    \n",
    "    fig = plt.figure()\n",
    "    ax = fig.add_subplot(111,projection='3d')\n",
    "    ax.plot_surface(X,Y,Z)\n",
    "    \n",
    "    \n",
    "    indices = np.array([(i, j) for (i, j, v) in coefficient_data])\n",
    "    values = np.array([v for (i, j, v) in coefficient_data])\n",
    "\n",
    "    # extract the coordinates from z using the indices\n",
    "    #x = z[indices[:, 0]]\n",
    "    #y = z[indices[:, 1]]\n",
    "    #z = values\n",
    "    #ax.scatter(x, y, z, color='orange')\n",
    "\n",
    "    # Make the plot interactive with mouse rotation\n",
    "    #ax.view_init(elev=30, azim=120)\n",
    "    #ax.dist = 10\n",
    "    #ax.mouse_init()\n",
    "    plt.show()\n",
    "    "
   ]
  },
  {
   "cell_type": "code",
   "execution_count": 18,
   "id": "6be3f7e5",
   "metadata": {},
   "outputs": [],
   "source": [
    "plot(f,torch.exp(log_z).detach().numpy())"
   ]
  },
  {
   "cell_type": "code",
   "execution_count": 19,
   "id": "ce2f6d85",
   "metadata": {},
   "outputs": [],
   "source": [
    "torch.exp(log_z)"
   ]
  },
  {
   "cell_type": "code",
   "execution_count": 30,
   "id": "829d50d9",
   "metadata": {},
   "outputs": [],
   "source": [
    "print(\"x\")"
   ]
  },
  {
   "cell_type": "code",
   "execution_count": null,
   "id": "baaf2391",
   "metadata": {},
   "outputs": [],
   "source": []
  }
 ],
 "metadata": {
  "kernelspec": {
   "display_name": "Python 3 (ipykernel)",
   "language": "python",
   "name": "python3"
  },
  "language_info": {
   "codemirror_mode": {
    "name": "ipython",
    "version": 3
   },
   "file_extension": ".py",
   "mimetype": "text/x-python",
   "name": "python",
   "nbconvert_exporter": "python",
   "pygments_lexer": "ipython3",
   "version": "3.8.10"
  }
 },
 "nbformat": 4,
 "nbformat_minor": 5
}
