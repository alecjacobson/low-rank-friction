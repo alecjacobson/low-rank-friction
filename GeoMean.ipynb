{
 "cells": [
  {
   "cell_type": "code",
   "execution_count": 314,
   "id": "d011a85f",
   "metadata": {},
   "outputs": [
    {
     "data": {
      "text/plain": [
       "<matplotlib.pyplot._IonContext at 0x293c46760>"
      ]
     },
     "execution_count": 314,
     "metadata": {},
     "output_type": "execute_result"
    }
   ],
   "source": [
    "import torch\n",
    "import csv\n",
    "import numpy as np\n",
    "#%matplotlib ipympl\n",
    "import matplotlib.pyplot as plt\n",
    "from scipy.sparse import coo_matrix\n",
    "import torch\n",
    "from torch.optim import Adam\n",
    "from torch.optim import SGD\n",
    "import torch.nn as nn\n",
    "from scipy import io\n",
    "\n",
    "plt.ion()"
   ]
  },
  {
   "cell_type": "code",
   "execution_count": 349,
   "id": "a82a94d1",
   "metadata": {},
   "outputs": [
    {
     "name": "stdout",
     "output_type": "stream",
     "text": [
      "Steel\tGraphite already exists, skipping!\n",
      "Wood\tBrick already exists, skipping!\n"
     ]
    }
   ],
   "source": [
    "filename = \"simple-data.txt\" # replace with your file name\n",
    "\n",
    "material_names_to_ids = {}\n",
    "coefficient_data = []\n",
    "pairs = {}\n",
    "\n",
    "num_materials = 0\n",
    "with open(filename, 'r') as file:\n",
    "    reader = csv.reader(file, delimiter='\\t')\n",
    "    for row in reader:\n",
    "        def get_id(name):\n",
    "            global num_materials\n",
    "            if name not in material_names_to_ids:\n",
    "                material_names_to_ids[name] = num_materials\n",
    "                num_materials = num_materials+1\n",
    "            return material_names_to_ids[name]\n",
    "        pair_str = row[0]+\"\\t\"+row[1]\n",
    "        rev_pair_str = row[1]+\"\\t\"+row[0]\n",
    "        if pair_str in pairs or rev_pair_str in pairs :\n",
    "            print(f\"%s already exists, skipping!\" % pair_str)\n",
    "            continue\n",
    "        pairs[pair_str] = True\n",
    "        pairs[rev_pair_str] = True\n",
    "        coefficient_data.append((get_id(row[0]),get_id(row[1]),float(row[2])))"
   ]
  },
  {
   "cell_type": "code",
   "execution_count": 350,
   "id": "ea4b7ee5",
   "metadata": {},
   "outputs": [],
   "source": [
    "# extract the row indices, column indices, and values from the triplets\n",
    "rows = [t[0] for t in coefficient_data]\n",
    "cols = [t[1] for t in coefficient_data]\n",
    "vals = [t[2] for t in coefficient_data]\n",
    "# create a sparse matrix in COO format\n",
    "coefficient_matrix = coo_matrix((vals, (rows, cols)),shape=(num_materials,num_materials))"
   ]
  },
  {
   "cell_type": "code",
   "execution_count": null,
   "id": "4e245252",
   "metadata": {},
   "outputs": [],
   "source": []
  },
  {
   "cell_type": "code",
   "execution_count": 357,
   "id": "efcb346d",
   "metadata": {},
   "outputs": [],
   "source": [
    "def write_to_data_mat(coefficient_data, material_names_to_ids):\n",
    "    materials = [key for (key) in material_names_to_ids]\n",
    "    indices = np.array([(i, j) for (i, j, v) in coefficient_data])\n",
    "    values = np.array([v for (i, j, v) in coefficient_data])\n",
    "    # extract the coordinates from z using the indices\n",
    "    # extract the row indices, column indices, and values from the triplets\n",
    "    rows = [t[0] for t in coefficient_data]\n",
    "    cols = [t[1] for t in coefficient_data]\n",
    "    vals = [t[2] for t in coefficient_data]\n",
    "    # create a sparse matrix in COO format\n",
    "    coefficient_matrix = coo_matrix((vals, (rows, cols)),shape=(num_materials,num_materials))\n",
    "    io.savemat('data.mat', {'indices': indices, 'values': values, \"coefficient_matrix\":coefficient_matrix,'materials': materials})\n",
    "write_to_data_mat(coefficient_data,material_names_to_ids)"
   ]
  },
  {
   "cell_type": "code",
   "execution_count": 356,
   "id": "4b8bdac2",
   "metadata": {},
   "outputs": [
    {
     "data": {
      "text/plain": [
       "{'Aluminum': 0,\n",
       " 'Mild Steel': 1,\n",
       " 'Snow': 2,\n",
       " 'Aluminum-bronze': 3,\n",
       " 'Steel': 4,\n",
       " 'Brake material2)': 5,\n",
       " 'Cast iron': 6,\n",
       " 'Cast iron (wet)': 7,\n",
       " 'Brass': 8,\n",
       " 'Brick': 9,\n",
       " 'Wood': 10,\n",
       " 'Cadmium': 11,\n",
       " 'Chromium': 12,\n",
       " 'Car tire': 13,\n",
       " 'Asphalt': 14,\n",
       " 'Grass': 15,\n",
       " 'Carbon': 16,\n",
       " 'Carbon (hard)': 17,\n",
       " 'Cast Iron': 18,\n",
       " 'Copper': 19,\n",
       " 'Glass': 20,\n",
       " 'Copper-Lead alloy': 21,\n",
       " 'Cotton': 22,\n",
       " 'Diamond': 23,\n",
       " 'Metals': 24,\n",
       " 'Metal': 25,\n",
       " 'Nickel': 26,\n",
       " 'Graphite': 27,\n",
       " 'Hemp rope': 28,\n",
       " 'Timber': 29,\n",
       " 'Horseshoe': 30,\n",
       " 'Concrete': 31,\n",
       " 'Rubber': 32,\n",
       " 'Ice': 33,\n",
       " 'Iron': 34,\n",
       " 'Leather': 35,\n",
       " 'Clean Metal': 36,\n",
       " 'Oak': 37,\n",
       " 'Leather fiber': 38,\n",
       " 'Magnesium': 39,\n",
       " 'Masonry': 40,\n",
       " 'Mica': 41,\n",
       " 'Nylon': 42,\n",
       " 'Oak (cross grain)': 43,\n",
       " 'Oak (parallel grain)': 44,\n",
       " 'Paper': 45,\n",
       " 'Phosphor-bronze': 46,\n",
       " 'Platinum': 47,\n",
       " 'Plexiglas': 48,\n",
       " 'Polyethylene': 49,\n",
       " 'Polytehylene': 50,\n",
       " 'Polystyrene': 51,\n",
       " 'Polytetrafluoroethylene (PTFE)': 52,\n",
       " 'Polytetrafluoroethylene (PTFE) (Teflon)': 53,\n",
       " 'Cardboard': 54,\n",
       " 'Dry Asphalt': 55,\n",
       " 'Sapphire': 56,\n",
       " 'Silver': 57,\n",
       " 'Skin': 58,\n",
       " 'Straw Fiber': 59,\n",
       " 'Tarred fiber': 60,\n",
       " 'Tire, dry': 61,\n",
       " 'Road, dry': 62,\n",
       " 'Tire, wet': 63,\n",
       " 'Road, wet': 64,\n",
       " 'Tungsten Carbide': 65,\n",
       " 'Wax, ski': 66,\n",
       " 'Clean Wood': 67,\n",
       " 'Stone': 68,\n",
       " 'Wet Metals': 69,\n",
       " 'Wet Wood': 70,\n",
       " 'Wood - waxed': 71,\n",
       " 'Wet snow': 72,\n",
       " 'Zinc': 73}"
      ]
     },
     "execution_count": 356,
     "metadata": {},
     "output_type": "execute_result"
    }
   ],
   "source": [
    "\n"
   ]
  },
  {
   "cell_type": "code",
   "execution_count": 26,
   "id": "a65e45b6",
   "metadata": {},
   "outputs": [
    {
     "data": {
      "image/png": "[encoded data removed]",
      "text/plain": [
       "<Figure size 432x288 with 1 Axes>"
      ]
     },
     "metadata": {
      "needs_background": "light"
     },
     "output_type": "display_data"
    }
   ],
   "source": [
    "# plot the sparsity pattern\n",
    "plt.imshow((coefficient_matrix+coefficient_matrix.T).todense(), cmap='binary', interpolation='nearest')\n",
    "plt.show()"
   ]
  },
  {
   "cell_type": "code",
   "execution_count": 309,
   "id": "24f84b49",
   "metadata": {},
   "outputs": [],
   "source": [
    "# define the initial values of z[i] and z[j]\n",
    "log_z = torch.randn(num_materials, 1, requires_grad=True)"
   ]
  },
  {
   "cell_type": "code",
   "execution_count": 310,
   "id": "bbdddee2",
   "metadata": {},
   "outputs": [],
   "source": [
    "# define the optimizer\n",
    "optimizer = Adam([log_z], lr=0.1)# define the loss function\n",
    "#optimizer = SGD([log_z], lr=0.01, momentum=0.9)"
   ]
  },
  {
   "cell_type": "code",
   "execution_count": 311,
   "id": "1cf06bbe",
   "metadata": {},
   "outputs": [],
   "source": [
    "class SimpleNet(nn.Module):\n",
    "    def __init__(self):\n",
    "        super(SimpleNet, self).__init__()\n",
    "        w = 20\n",
    "        self.layer1 = nn.Linear(2, w)\n",
    "        self.layer2 = nn.Linear(w, w)\n",
    "        self.layer3 = nn.Linear(w, w)\n",
    "        self.layer4 = nn.Linear(w, w)\n",
    "        self.layer5 = nn.Linear(w, w)\n",
    "        self.layer6 = nn.Linear(w, w)\n",
    "        #self.layer4 = nn.Linear(20, 20)\n",
    "        self.last_layer = nn.Linear(w, 1)\n",
    "        self.relu = nn.ReLU() # ReLU activation function\n",
    "\n",
    "    def forward(self, zi, zj):\n",
    "        # THIS DOES NOT WORK\n",
    "        #x = torch.tensor([zi,zj],requires_grad=True)\n",
    "        # YOU HAVE TO DO THIS?! DUH!\n",
    "        x = torch.stack([zi, zj]).T\n",
    "        x = self.relu(self.layer1(x))\n",
    "        x = self.relu(self.layer2(x))\n",
    "        x = self.relu(self.layer3(x))\n",
    "        #x = self.relu(self.layer4(x))\n",
    "        #x = self.relu(self.layer5(x))\n",
    "        #x = self.relu(self.layer6(x))\n",
    "        x = self.last_layer(x)\n",
    "        return x\n",
    "        #return torch.sqrt(x[0]*x[1])"
   ]
  },
  {
   "cell_type": "code",
   "execution_count": 312,
   "id": "d9a4743d",
   "metadata": {},
   "outputs": [],
   "source": [
    "def geomean(zi,zj):\n",
    "    return torch.sqrt(zi * zj)\n",
    "\n",
    "model = SimpleNet()\n",
    "\n",
    "def f(zi,zj):\n",
    "    return model.forward(zi,zj)\n",
    "    #return geomean(zi,zj)\n",
    "\n",
    "def loss_function(triplets, log_z):\n",
    "    loss = 0\n",
    "    z = torch.exp(log_z)\n",
    "    for i, j, v in triplets:\n",
    "        loss += torch.abs( f(z[i],z[j]) - v)\n",
    "    return loss"
   ]
  },
  {
   "cell_type": "code",
   "execution_count": 313,
   "id": "59b46461",
   "metadata": {},
   "outputs": [
    {
     "name": "stdout",
     "output_type": "stream",
     "text": [
      "0: 0.286739 (-3.27926,1.7785)\n",
      "100: 0.161077 (-6.19521,4.1127)\n",
      "200: 0.149381 (-7.29768,4.12855)\n",
      "300: 0.144357 (-8.00266,4.19757)\n",
      "400: 0.143716 (-8.54546,4.09194)\n",
      "500: 0.147792 (-9.00168,4.03563)\n",
      "600: 0.146169 (-9.47837,4.03345)\n"
     ]
    },
    {
     "ename": "KeyboardInterrupt",
     "evalue": "",
     "output_type": "error",
     "traceback": [
      "\u001b[0;31m---------------------------------------------------------------------------\u001b[0m",
      "\u001b[0;31mKeyboardInterrupt\u001b[0m                         Traceback (most recent call last)",
      "Cell \u001b[0;32mIn[313], line 15\u001b[0m\n\u001b[1;32m     13\u001b[0m batch_triplets \u001b[38;5;241m=\u001b[39m coefficient_data[i:i\u001b[38;5;241m+\u001b[39mbatch_size]\n\u001b[1;32m     14\u001b[0m optimizer\u001b[38;5;241m.\u001b[39mzero_grad()\n\u001b[0;32m---> 15\u001b[0m loss \u001b[38;5;241m=\u001b[39m \u001b[43mloss_function\u001b[49m\u001b[43m(\u001b[49m\u001b[43mbatch_triplets\u001b[49m\u001b[43m,\u001b[49m\u001b[43m \u001b[49m\u001b[43mlog_z\u001b[49m\u001b[43m)\u001b[49m\n\u001b[1;32m     16\u001b[0m loss\u001b[38;5;241m.\u001b[39mbackward()\n\u001b[1;32m     17\u001b[0m optimizer\u001b[38;5;241m.\u001b[39mstep()    \n",
      "Cell \u001b[0;32mIn[312], line 14\u001b[0m, in \u001b[0;36mloss_function\u001b[0;34m(triplets, log_z)\u001b[0m\n\u001b[1;32m     12\u001b[0m z \u001b[38;5;241m=\u001b[39m torch\u001b[38;5;241m.\u001b[39mexp(log_z)\n\u001b[1;32m     13\u001b[0m \u001b[38;5;28;01mfor\u001b[39;00m i, j, v \u001b[38;5;129;01min\u001b[39;00m triplets:\n\u001b[0;32m---> 14\u001b[0m     loss \u001b[38;5;241m+\u001b[39m\u001b[38;5;241m=\u001b[39m torch\u001b[38;5;241m.\u001b[39mabs( f(z[i],z[j]) \u001b[38;5;241m-\u001b[39m v)\n\u001b[1;32m     15\u001b[0m \u001b[38;5;28;01mreturn\u001b[39;00m loss\n",
      "\u001b[0;31mKeyboardInterrupt\u001b[0m: "
     ]
    }
   ],
   "source": [
    "# perform the optimization\n",
    "num_epochs = 200000\n",
    "batch_size = 16\n",
    "#batch_size = len(coefficient_data)\n",
    "for epoch in range(num_epochs):\n",
    "    if epoch % 100 == 0:\n",
    "        print(f\"%d: %g (%g,%g)\" % (epoch,loss_function(coefficient_data,log_z)/len(coefficient_data),torch.min(log_z),torch.max(log_z)))\n",
    "    # shuffle the triplets for each epoch\n",
    "    np.random.shuffle(coefficient_data)\n",
    "    # iterate over mini-batches\n",
    "    #for i in [1]:\n",
    "    for i in range(0, len(coefficient_data), batch_size):\n",
    "        batch_triplets = coefficient_data[i:i+batch_size]\n",
    "        optimizer.zero_grad()\n",
    "        loss = loss_function(batch_triplets, log_z)\n",
    "        loss.backward()\n",
    "        optimizer.step()    \n",
    "    \n",
    "# print the final values of z\n",
    "#print(torch.exp(log_z).detach().numpy())"
   ]
  },
  {
   "cell_type": "code",
   "execution_count": null,
   "id": "6114b441",
   "metadata": {},
   "outputs": [],
   "source": []
  },
  {
   "cell_type": "code",
   "execution_count": 320,
   "id": "6be3f7e5",
   "metadata": {},
   "outputs": [],
   "source": [
    "def write_to_data_mat(log_z):\n",
    "    global coefficient_data\n",
    "    indices = np.array([(i, j) for (i, j, v) in coefficient_data])\n",
    "    values = np.array([v for (i, j, v) in coefficient_data])\n",
    "    z = torch.exp(log_z).detach().numpy()\n",
    "    x = np.linspace(0,1,10)\n",
    "    y = np.linspace(0,1,10)\n",
    "    X, Y = np.meshgrid(x, y)\n",
    "    Z = np.zeros(X.shape)\n",
    "    for i in range(X.shape[0]):\n",
    "        for j in range(X.shape[0]):\n",
    "            Z[i,j] = f(torch.tensor(X[i,j]),torch.tensor(Y[i,j]))\n",
    "    # extract the coordinates from z using the indices\n",
    "    io.savemat('data.mat', {'z': z,'indices': indices, 'values': values,'X':X,'Y':Y,'Z':Z})"
   ]
  },
  {
   "cell_type": "code",
   "execution_count": 321,
   "id": "ce2f6d85",
   "metadata": {},
   "outputs": [
    {
     "ename": "RuntimeError",
     "evalue": "expected scalar type Double but found Float",
     "output_type": "error",
     "traceback": [
      "\u001b[0;31m---------------------------------------------------------------------------\u001b[0m",
      "\u001b[0;31mRuntimeError\u001b[0m                              Traceback (most recent call last)",
      "Cell \u001b[0;32mIn[321], line 1\u001b[0m\n\u001b[0;32m----> 1\u001b[0m \u001b[43mwrite_to_data_mat\u001b[49m\u001b[43m(\u001b[49m\u001b[43mlog_z\u001b[49m\u001b[43m)\u001b[49m\n",
      "Cell \u001b[0;32mIn[320], line 12\u001b[0m, in \u001b[0;36mwrite_to_data_mat\u001b[0;34m(log_z)\u001b[0m\n\u001b[1;32m     10\u001b[0m \u001b[38;5;28;01mfor\u001b[39;00m i \u001b[38;5;129;01min\u001b[39;00m \u001b[38;5;28mrange\u001b[39m(X\u001b[38;5;241m.\u001b[39mshape[\u001b[38;5;241m0\u001b[39m]):\n\u001b[1;32m     11\u001b[0m     \u001b[38;5;28;01mfor\u001b[39;00m j \u001b[38;5;129;01min\u001b[39;00m \u001b[38;5;28mrange\u001b[39m(X\u001b[38;5;241m.\u001b[39mshape[\u001b[38;5;241m0\u001b[39m]):\n\u001b[0;32m---> 12\u001b[0m         Z[i,j] \u001b[38;5;241m=\u001b[39m \u001b[43mf\u001b[49m\u001b[43m(\u001b[49m\u001b[43mtorch\u001b[49m\u001b[38;5;241;43m.\u001b[39;49m\u001b[43mtensor\u001b[49m\u001b[43m(\u001b[49m\u001b[43mX\u001b[49m\u001b[43m[\u001b[49m\u001b[43mi\u001b[49m\u001b[43m,\u001b[49m\u001b[43mj\u001b[49m\u001b[43m]\u001b[49m\u001b[43m)\u001b[49m\u001b[43m,\u001b[49m\u001b[43mtorch\u001b[49m\u001b[38;5;241;43m.\u001b[39;49m\u001b[43mtensor\u001b[49m\u001b[43m(\u001b[49m\u001b[43mY\u001b[49m\u001b[43m[\u001b[49m\u001b[43mi\u001b[49m\u001b[43m,\u001b[49m\u001b[43mj\u001b[49m\u001b[43m]\u001b[49m\u001b[43m)\u001b[49m\u001b[43m)\u001b[49m\n\u001b[1;32m     13\u001b[0m \u001b[38;5;66;03m# extract the coordinates from z using the indices\u001b[39;00m\n\u001b[1;32m     14\u001b[0m io\u001b[38;5;241m.\u001b[39msavemat(\u001b[38;5;124m'\u001b[39m\u001b[38;5;124mdata.mat\u001b[39m\u001b[38;5;124m'\u001b[39m, {\u001b[38;5;124m'\u001b[39m\u001b[38;5;124mz\u001b[39m\u001b[38;5;124m'\u001b[39m: z,\u001b[38;5;124m'\u001b[39m\u001b[38;5;124mindices\u001b[39m\u001b[38;5;124m'\u001b[39m: indices, \u001b[38;5;124m'\u001b[39m\u001b[38;5;124mvalues\u001b[39m\u001b[38;5;124m'\u001b[39m: values,\u001b[38;5;124m'\u001b[39m\u001b[38;5;124mX\u001b[39m\u001b[38;5;124m'\u001b[39m:X,\u001b[38;5;124m'\u001b[39m\u001b[38;5;124mY\u001b[39m\u001b[38;5;124m'\u001b[39m:Y,\u001b[38;5;124m'\u001b[39m\u001b[38;5;124mZ\u001b[39m\u001b[38;5;124m'\u001b[39m:Z})\n",
      "Cell \u001b[0;32mIn[312], line 7\u001b[0m, in \u001b[0;36mf\u001b[0;34m(zi, zj)\u001b[0m\n\u001b[1;32m      6\u001b[0m \u001b[38;5;28;01mdef\u001b[39;00m \u001b[38;5;21mf\u001b[39m(zi,zj):\n\u001b[0;32m----> 7\u001b[0m     \u001b[38;5;28;01mreturn\u001b[39;00m \u001b[43mmodel\u001b[49m\u001b[38;5;241;43m.\u001b[39;49m\u001b[43mforward\u001b[49m\u001b[43m(\u001b[49m\u001b[43mzi\u001b[49m\u001b[43m,\u001b[49m\u001b[43mzj\u001b[49m\u001b[43m)\u001b[49m\n",
      "Cell \u001b[0;32mIn[311], line 20\u001b[0m, in \u001b[0;36mSimpleNet.forward\u001b[0;34m(self, zi, zj)\u001b[0m\n\u001b[1;32m     15\u001b[0m \u001b[38;5;28;01mdef\u001b[39;00m \u001b[38;5;21mforward\u001b[39m(\u001b[38;5;28mself\u001b[39m, zi, zj):\n\u001b[1;32m     16\u001b[0m     \u001b[38;5;66;03m# THIS DOES NOT WORK\u001b[39;00m\n\u001b[1;32m     17\u001b[0m     \u001b[38;5;66;03m#x = torch.tensor([zi,zj],requires_grad=True)\u001b[39;00m\n\u001b[1;32m     18\u001b[0m     \u001b[38;5;66;03m# YOU HAVE TO DO THIS?! DUH!\u001b[39;00m\n\u001b[1;32m     19\u001b[0m     x \u001b[38;5;241m=\u001b[39m torch\u001b[38;5;241m.\u001b[39mstack([zi, zj])\u001b[38;5;241m.\u001b[39mT\n\u001b[0;32m---> 20\u001b[0m     x \u001b[38;5;241m=\u001b[39m \u001b[38;5;28mself\u001b[39m\u001b[38;5;241m.\u001b[39mrelu(\u001b[38;5;28;43mself\u001b[39;49m\u001b[38;5;241;43m.\u001b[39;49m\u001b[43mlayer1\u001b[49m\u001b[43m(\u001b[49m\u001b[43mx\u001b[49m\u001b[43m)\u001b[49m)\n\u001b[1;32m     21\u001b[0m     x \u001b[38;5;241m=\u001b[39m \u001b[38;5;28mself\u001b[39m\u001b[38;5;241m.\u001b[39mrelu(\u001b[38;5;28mself\u001b[39m\u001b[38;5;241m.\u001b[39mlayer2(x))\n\u001b[1;32m     22\u001b[0m     x \u001b[38;5;241m=\u001b[39m \u001b[38;5;28mself\u001b[39m\u001b[38;5;241m.\u001b[39mrelu(\u001b[38;5;28mself\u001b[39m\u001b[38;5;241m.\u001b[39mlayer3(x))\n",
      "File \u001b[0;32m~/miniconda3/lib/python3.9/site-packages/torch/nn/modules/module.py:1194\u001b[0m, in \u001b[0;36mModule._call_impl\u001b[0;34m(self, *input, **kwargs)\u001b[0m\n\u001b[1;32m   1190\u001b[0m \u001b[38;5;66;03m# If we don't have any hooks, we want to skip the rest of the logic in\u001b[39;00m\n\u001b[1;32m   1191\u001b[0m \u001b[38;5;66;03m# this function, and just call forward.\u001b[39;00m\n\u001b[1;32m   1192\u001b[0m \u001b[38;5;28;01mif\u001b[39;00m \u001b[38;5;129;01mnot\u001b[39;00m (\u001b[38;5;28mself\u001b[39m\u001b[38;5;241m.\u001b[39m_backward_hooks \u001b[38;5;129;01mor\u001b[39;00m \u001b[38;5;28mself\u001b[39m\u001b[38;5;241m.\u001b[39m_forward_hooks \u001b[38;5;129;01mor\u001b[39;00m \u001b[38;5;28mself\u001b[39m\u001b[38;5;241m.\u001b[39m_forward_pre_hooks \u001b[38;5;129;01mor\u001b[39;00m _global_backward_hooks\n\u001b[1;32m   1193\u001b[0m         \u001b[38;5;129;01mor\u001b[39;00m _global_forward_hooks \u001b[38;5;129;01mor\u001b[39;00m _global_forward_pre_hooks):\n\u001b[0;32m-> 1194\u001b[0m     \u001b[38;5;28;01mreturn\u001b[39;00m \u001b[43mforward_call\u001b[49m\u001b[43m(\u001b[49m\u001b[38;5;241;43m*\u001b[39;49m\u001b[38;5;28;43minput\u001b[39;49m\u001b[43m,\u001b[49m\u001b[43m \u001b[49m\u001b[38;5;241;43m*\u001b[39;49m\u001b[38;5;241;43m*\u001b[39;49m\u001b[43mkwargs\u001b[49m\u001b[43m)\u001b[49m\n\u001b[1;32m   1195\u001b[0m \u001b[38;5;66;03m# Do not call functions when jit is used\u001b[39;00m\n\u001b[1;32m   1196\u001b[0m full_backward_hooks, non_full_backward_hooks \u001b[38;5;241m=\u001b[39m [], []\n",
      "File \u001b[0;32m~/miniconda3/lib/python3.9/site-packages/torch/nn/modules/linear.py:114\u001b[0m, in \u001b[0;36mLinear.forward\u001b[0;34m(self, input)\u001b[0m\n\u001b[1;32m    113\u001b[0m \u001b[38;5;28;01mdef\u001b[39;00m \u001b[38;5;21mforward\u001b[39m(\u001b[38;5;28mself\u001b[39m, \u001b[38;5;28minput\u001b[39m: Tensor) \u001b[38;5;241m-\u001b[39m\u001b[38;5;241m>\u001b[39m Tensor:\n\u001b[0;32m--> 114\u001b[0m     \u001b[38;5;28;01mreturn\u001b[39;00m \u001b[43mF\u001b[49m\u001b[38;5;241;43m.\u001b[39;49m\u001b[43mlinear\u001b[49m\u001b[43m(\u001b[49m\u001b[38;5;28;43minput\u001b[39;49m\u001b[43m,\u001b[49m\u001b[43m \u001b[49m\u001b[38;5;28;43mself\u001b[39;49m\u001b[38;5;241;43m.\u001b[39;49m\u001b[43mweight\u001b[49m\u001b[43m,\u001b[49m\u001b[43m \u001b[49m\u001b[38;5;28;43mself\u001b[39;49m\u001b[38;5;241;43m.\u001b[39;49m\u001b[43mbias\u001b[49m\u001b[43m)\u001b[49m\n",
      "\u001b[0;31mRuntimeError\u001b[0m: expected scalar type Double but found Float"
     ]
    }
   ],
   "source": [
    "write_to_data_mat(log_z)"
   ]
  },
  {
   "cell_type": "code",
   "execution_count": 308,
   "id": "829d50d9",
   "metadata": {},
   "outputs": [
    {
     "name": "stdout",
     "output_type": "stream",
     "text": [
      "/Users/alecjacobson/miniconda3/bin/python\n"
     ]
    }
   ],
   "source": [
    "import sys\n",
    "\n",
    "print(sys.executable)"
   ]
  },
  {
   "cell_type": "code",
   "execution_count": 12,
   "id": "baaf2391",
   "metadata": {},
   "outputs": [
    {
     "name": "stdout",
     "output_type": "stream",
     "text": [
      "3.9.15 | packaged by conda-forge | (main, Nov 22 2022, 08:48:25) \n",
      "[Clang 14.0.6 ]\n"
     ]
    }
   ],
   "source": [
    "print(sys.version)"
   ]
  },
  {
   "cell_type": "code",
   "execution_count": null,
   "id": "2ab49eec",
   "metadata": {},
   "outputs": [],
   "source": []
  },
  {
   "cell_type": "code",
   "execution_count": null,
   "id": "a9f53f02",
   "metadata": {},
   "outputs": [],
   "source": []
  }
 ],
 "metadata": {
  "kernelspec": {
   "display_name": "Python 3",
   "language": "python",
   "name": "python3"
  },
  "language_info": {
   "codemirror_mode": {
    "name": "ipython",
    "version": 3
   },
   "file_extension": ".py",
   "mimetype": "text/x-python",
   "name": "python",
   "nbconvert_exporter": "python",
   "pygments_lexer": "ipython3",
   "version": "3.9.15"
  }
 },
 "nbformat": 4,
 "nbformat_minor": 5
}
